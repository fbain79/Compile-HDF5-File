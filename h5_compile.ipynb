{
 "cells": [
  {
   "cell_type": "code",
   "execution_count": null,
   "metadata": {},
   "outputs": [],
   "source": [
    "import tifffile\n",
    "import numpy as np\n",
    "import os\n",
    "from collections import defaultdict\n",
    "import sys\n",
    "import re\n",
    "import h5py"
   ]
  },
  {
   "cell_type": "code",
   "execution_count": null,
   "metadata": {},
   "outputs": [],
   "source": [
    "name_regex = re.compile(r\"\"\"[\\w-]+Pos_(\\d+)_(\\d+)\"\"\")\n",
    "image_directory = 'Sm_Movies/'\n",
    "name = image_directory"
   ]
  },
  {
   "cell_type": "code",
   "execution_count": null,
   "metadata": {},
   "outputs": [],
   "source": [
    "#def get_all_tif_paths(image_directory):\n",
    "paths = defaultdict(set)\n",
    "for directory, subdirs, filenames in os.walk(image_directory):\n",
    "    if not filenames:\n",
    "        continue\n",
    "    for filename in filenames:\n",
    "        if not filename.endswith('ome.tif'):\n",
    "            continue\n",
    "        paths[directory].add(os.path.join(directory, filename))"
   ]
  },
  {
   "cell_type": "code",
   "execution_count": null,
   "metadata": {},
   "outputs": [],
   "source": [
    "tif_stack = []\n",
    "for directory, tifs in paths.items():\n",
    "    tif_stack += list(tifs)\n",
    "print tif_stack"
   ]
  },
  {
   "cell_type": "code",
   "execution_count": null,
   "metadata": {},
   "outputs": [],
   "source": [
    "#def get_tif_positions(tif_stack):\n",
    "tif_axes = {}\n",
    "best_first = 0\n",
    "best_second = 0\n",
    "for file_path in tif_stack:\n",
    "    filename = os.path.split(file_path)[1]\n",
    "    axis_positions = name_regex.search(filename)\n",
    "    first = int(axis_positions.group(1))\n",
    "    second = int(axis_positions.group(2))\n",
    "    best_first = max(first, best_first)\n",
    "    best_second = max(second, best_second)\n",
    "    tif_axes[file_path] = (first, second)\n",
    "if best_second > best_first:\n",
    "    # the second thing is the major axis, so we need to invert them\n",
    "    self._axes = {file_path: (second, first) for file_path, (first, second) in tif_axes.items()}\n",
    "print tif_axes"
   ]
  },
  {
   "cell_type": "code",
   "execution_count": null,
   "metadata": {},
   "outputs": [],
   "source": [
    "#def create_h5_dictionary(positions):\n",
    "h5_entries = defaultdict(lambda: defaultdict(int))\n",
    "for file_name, position in tif_axes.items():\n",
    "    if 'Cy3' in file_name:\n",
    "        major_position = str(position[0])\n",
    "        minor_position = str(position[1])\n",
    "        positions = '(Major, minor) = ({}, {})'.format(major_position, minor_position)\n",
    "        #print positions\n",
    "        with tifffile.TiffFile(file_name) as tif:\n",
    "            img = tif.asarray()\n",
    "            sum_img = np.sum(img, dtype=np.int, axis=0)\n",
    "            #print sum_img.size, sum_img.shape\n",
    "            h5_entries['Cy3'][positions] = sum_img\n",
    "    if 'Cy5' in file_name:\n",
    "        #print file_name\n",
    "        major_position = str(position[0])\n",
    "        minor_position = str(position[1])\n",
    "        positions = '(Major, minor) = ({}, {})'.format(major_position, minor_position)\n",
    "        #print positions\n",
    "        with tifffile.TiffFile(file_name) as tif:\n",
    "            image = tif.asarray()\n",
    "            #for adjustment in self._adjustments:\n",
    "            #    image = adjustment(image)\n",
    "            sum_image = np.sum(image, dtype=np.int, axis=0)\n",
    "            #print sum_image.size, sum_image.shape\n",
    "            h5_entries['Cy5'][positions] = sum_image\n",
    "    #return h5_entries\n",
    "    print h5_entries.keys()"
   ]
  },
  {
   "cell_type": "code",
   "execution_count": null,
   "metadata": {},
   "outputs": [],
   "source": [
    "#def convert_image_dict_to_h5(name, datadict):\n",
    "#    \"\"\"Convert nested dictionary to h5 file\n",
    "#   \n",
    "#    Parameters\n",
    "#    ----------\n",
    "#    name: str\n",
    "#        Name of the movie; used to name h5 file\n",
    "#    \n",
    "#    datadict: dict\n",
    "#        Dictionary mapping channel names and positions to pixel intensity arrays\n",
    "#\n",
    "#    \"\"\"\n",
    "    \n",
    "#h = h5py.File('{}.h5'.format(name), 'w')\n",
    "for ch_name in h5_entries.keys():\n",
    "    for pos, image in h5_entries[ch_name].items():\n",
    "        position_regex = re.findall('\\d+', pos)\n",
    "        major_position = position_regex[0]\n",
    "        h_name = 'Position_' + major_position + '.h5'\n",
    "        if os.path.exists(h_name):\n",
    "            print \"Working with existing file: \" + h_name\n",
    "            h = h5py.File('Position_%s.h5' % major_position, 'r+')\n",
    "            #print 'Opening: ' + str(h.name) \n",
    "            if ch_name not in h:\n",
    "                group = h.create_group(ch_name)\n",
    "            else:\n",
    "                group = h[ch_name]\n",
    "            if pos not in h:\n",
    "                dataset = group.create_dataset(pos, image.shape, dtype = image.dtype) \n",
    "            else:\n",
    "                datset = group[pos]\n",
    "            dataset[...] = image\n",
    "            h.close()\n",
    "        else:\n",
    "            print \"Creating New File: \" + h_name\n",
    "            h = h5py.File('Position_{}.h5'.format(major_position), 'w')\n",
    "            #print \"Creating HDF5 File: \" + str(h)\n",
    "            if ch_name not in h:\n",
    "                group = h.create_group(ch_name)\n",
    "                #print \"Creating Channel: \" + ch_name\n",
    "            else:\n",
    "                group = h[ch_name]\n",
    "                #print \"Using Channel: \" + ch_name\n",
    "\n",
    "            if pos not in h:\n",
    "                dataset = group.create_dataset(pos, image.shape, dtype = image.dtype) \n",
    "                #print \"Dataset = \" + str(dataset.name)\n",
    "                dataset[...] = image\n",
    "            else:\n",
    "                datset = group[pos]\n",
    "                #print \"Opening Dataset= \" + stre(dataset.name)\n",
    "            dataset[...] = image\n",
    "            h.close()            \n",
    "#         #print h.name"
   ]
  }
 ],
 "metadata": {
  "kernelspec": {
   "display_name": "Python 2",
   "language": "python",
   "name": "python2"
  },
  "language_info": {
   "codemirror_mode": {
    "name": "ipython",
    "version": 2
   },
   "file_extension": ".py",
   "mimetype": "text/x-python",
   "name": "python",
   "nbconvert_exporter": "python",
   "pygments_lexer": "ipython2",
   "version": "2.7.18"
  }
 },
 "nbformat": 4,
 "nbformat_minor": 2
}
