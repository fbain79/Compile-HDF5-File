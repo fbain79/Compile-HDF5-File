{
 "cells": [
  {
   "cell_type": "code",
   "execution_count": 1,
   "metadata": {},
   "outputs": [],
   "source": [
    "import tifffile\n",
    "import numpy as np\n",
    "import os\n",
    "from collections import defaultdict\n",
    "import sys\n",
    "import re\n",
    "import h5py"
   ]
  },
  {
   "cell_type": "code",
   "execution_count": 2,
   "metadata": {},
   "outputs": [],
   "source": [
    "name_regex = re.compile(r\"\"\"[\\w-]+Pos_(\\d+)_(\\d+)\"\"\")\n",
    "image_directory = 'Sm_Movies/'\n",
    "name = image_directory"
   ]
  },
  {
   "cell_type": "code",
   "execution_count": 3,
   "metadata": {},
   "outputs": [],
   "source": [
    "#def get_all_tif_paths(image_directory):\n",
    "paths = defaultdict(set)\n",
    "for directory, subdirs, filenames in os.walk(image_directory):\n",
    "    if not filenames:\n",
    "        continue\n",
    "    for filename in filenames:\n",
    "        if not filename.endswith('ome.tif'):\n",
    "            continue\n",
    "        paths[directory].add(os.path.join(directory, filename))"
   ]
  },
  {
   "cell_type": "code",
   "execution_count": 4,
   "metadata": {},
   "outputs": [
    {
     "name": "stdout",
     "output_type": "stream",
     "text": [
      "['Sm_Movies/Cy5/Cy5_Pos_7_02.ome.tif', 'Sm_Movies/Cy5/Cy5_Pos_5_01.ome.tif', 'Sm_Movies/Cy5/Cy5_Pos_7_01.ome.tif', 'Sm_Movies/Cy5/Cy5_Pos_3_02.ome.tif', 'Sm_Movies/Cy5/Cy5_Pos_4_02.ome.tif', 'Sm_Movies/Cy5/Cy5_Pos_8_02.ome.tif', 'Sm_Movies/Cy5/Cy5_Pos_6_01.ome.tif', 'Sm_Movies/Cy5/Cy5_Pos_6_02.ome.tif', 'Sm_Movies/Cy5/Cy5_Pos_2_01.ome.tif', 'Sm_Movies/Cy5/Cy5_Pos_1_02.ome.tif', 'Sm_Movies/Cy5/Cy5_Pos_9_01.ome.tif', 'Sm_Movies/Cy5/Cy5_Pos_0_01.ome.tif', 'Sm_Movies/Cy5/Cy5_Pos_1_01.ome.tif', 'Sm_Movies/Cy5/Cy5_Pos_9_02.ome.tif', 'Sm_Movies/Cy5/Cy5_Pos_3_01.ome.tif', 'Sm_Movies/Cy5/Cy5_Pos_0_02.ome.tif', 'Sm_Movies/Cy5/Cy5_Pos_5_02.ome.tif', 'Sm_Movies/Cy5/Cy5_Pos_8_01.ome.tif', 'Sm_Movies/Cy5/Cy5_Pos_4_01.ome.tif', 'Sm_Movies/Cy5/Cy5_Pos_2_02.ome.tif', 'Sm_Movies/Cy3/Cy3_Pos_7_02.ome.tif', 'Sm_Movies/Cy3/Cy3_Pos_5_01.ome.tif', 'Sm_Movies/Cy3/Cy3_Pos_7_01.ome.tif', 'Sm_Movies/Cy3/Cy3_Pos_3_02.ome.tif', 'Sm_Movies/Cy3/Cy3_Pos_4_02.ome.tif', 'Sm_Movies/Cy3/Cy3_Pos_8_02.ome.tif', 'Sm_Movies/Cy3/Cy3_Pos_6_01.ome.tif', 'Sm_Movies/Cy3/Cy3_Pos_6_02.ome.tif', 'Sm_Movies/Cy3/Cy3_Pos_2_01.ome.tif', 'Sm_Movies/Cy3/Cy3_Pos_1_02.ome.tif', 'Sm_Movies/Cy3/Cy3_Pos_9_01.ome.tif', 'Sm_Movies/Cy3/Cy3_Pos_0_01.ome.tif', 'Sm_Movies/Cy3/Cy3_Pos_1_01.ome.tif', 'Sm_Movies/Cy3/Cy3_Pos_9_02.ome.tif', 'Sm_Movies/Cy3/Cy3_Pos_3_01.ome.tif', 'Sm_Movies/Cy3/Cy3_Pos_0_02.ome.tif', 'Sm_Movies/Cy3/Cy3_Pos_5_02.ome.tif', 'Sm_Movies/Cy3/Cy3_Pos_8_01.ome.tif', 'Sm_Movies/Cy3/Cy3_Pos_4_01.ome.tif', 'Sm_Movies/Cy3/Cy3_Pos_2_02.ome.tif']\n"
     ]
    }
   ],
   "source": [
    "tif_stack = []\n",
    "for directory, tifs in paths.items():\n",
    "    tif_stack += list(tifs)\n",
    "print tif_stack"
   ]
  },
  {
   "cell_type": "code",
   "execution_count": 5,
   "metadata": {},
   "outputs": [
    {
     "name": "stdout",
     "output_type": "stream",
     "text": [
      "{'Sm_Movies/Cy5/Cy5_Pos_7_02.ome.tif': (7, 2), 'Sm_Movies/Cy5/Cy5_Pos_5_01.ome.tif': (5, 1), 'Sm_Movies/Cy3/Cy3_Pos_4_02.ome.tif': (4, 2), 'Sm_Movies/Cy3/Cy3_Pos_6_01.ome.tif': (6, 1), 'Sm_Movies/Cy5/Cy5_Pos_6_02.ome.tif': (6, 2), 'Sm_Movies/Cy5/Cy5_Pos_2_01.ome.tif': (2, 1), 'Sm_Movies/Cy3/Cy3_Pos_1_02.ome.tif': (1, 2), 'Sm_Movies/Cy5/Cy5_Pos_0_02.ome.tif': (0, 2), 'Sm_Movies/Cy5/Cy5_Pos_5_02.ome.tif': (5, 2), 'Sm_Movies/Cy5/Cy5_Pos_9_01.ome.tif': (9, 1), 'Sm_Movies/Cy5/Cy5_Pos_4_01.ome.tif': (4, 1), 'Sm_Movies/Cy3/Cy3_Pos_8_02.ome.tif': (8, 2), 'Sm_Movies/Cy3/Cy3_Pos_3_02.ome.tif': (3, 2), 'Sm_Movies/Cy5/Cy5_Pos_4_02.ome.tif': (4, 2), 'Sm_Movies/Cy5/Cy5_Pos_6_01.ome.tif': (6, 1), 'Sm_Movies/Cy5/Cy5_Pos_1_02.ome.tif': (1, 2), 'Sm_Movies/Cy3/Cy3_Pos_0_01.ome.tif': (0, 1), 'Sm_Movies/Cy3/Cy3_Pos_9_02.ome.tif': (9, 2), 'Sm_Movies/Cy3/Cy3_Pos_3_01.ome.tif': (3, 1), 'Sm_Movies/Cy3/Cy3_Pos_8_01.ome.tif': (8, 1), 'Sm_Movies/Cy5/Cy5_Pos_8_02.ome.tif': (8, 2), 'Sm_Movies/Cy3/Cy3_Pos_7_01.ome.tif': (7, 1), 'Sm_Movies/Cy5/Cy5_Pos_3_02.ome.tif': (3, 2), 'Sm_Movies/Cy5/Cy5_Pos_0_01.ome.tif': (0, 1), 'Sm_Movies/Cy3/Cy3_Pos_1_01.ome.tif': (1, 1), 'Sm_Movies/Cy5/Cy5_Pos_9_02.ome.tif': (9, 2), 'Sm_Movies/Cy5/Cy5_Pos_3_01.ome.tif': (3, 1), 'Sm_Movies/Cy5/Cy5_Pos_8_01.ome.tif': (8, 1), 'Sm_Movies/Cy3/Cy3_Pos_2_02.ome.tif': (2, 2), 'Sm_Movies/Cy3/Cy3_Pos_7_02.ome.tif': (7, 2), 'Sm_Movies/Cy3/Cy3_Pos_5_01.ome.tif': (5, 1), 'Sm_Movies/Cy5/Cy5_Pos_7_01.ome.tif': (7, 1), 'Sm_Movies/Cy3/Cy3_Pos_6_02.ome.tif': (6, 2), 'Sm_Movies/Cy3/Cy3_Pos_2_01.ome.tif': (2, 1), 'Sm_Movies/Cy5/Cy5_Pos_1_01.ome.tif': (1, 1), 'Sm_Movies/Cy3/Cy3_Pos_0_02.ome.tif': (0, 2), 'Sm_Movies/Cy3/Cy3_Pos_5_02.ome.tif': (5, 2), 'Sm_Movies/Cy3/Cy3_Pos_9_01.ome.tif': (9, 1), 'Sm_Movies/Cy3/Cy3_Pos_4_01.ome.tif': (4, 1), 'Sm_Movies/Cy5/Cy5_Pos_2_02.ome.tif': (2, 2)}\n"
     ]
    }
   ],
   "source": [
    "#def get_tif_positions(tif_stack):\n",
    "tif_axes = {}\n",
    "best_first = 0\n",
    "best_second = 0\n",
    "for file_path in tif_stack:\n",
    "    filename = os.path.split(file_path)[1]\n",
    "    axis_positions = name_regex.search(filename)\n",
    "    first = int(axis_positions.group(1))\n",
    "    second = int(axis_positions.group(2))\n",
    "    best_first = max(first, best_first)\n",
    "    best_second = max(second, best_second)\n",
    "    tif_axes[file_path] = (first, second)\n",
    "if best_second > best_first:\n",
    "    # the second thing is the major axis, so we need to invert them\n",
    "    self._axes = {file_path: (second, first) for file_path, (first, second) in tif_axes.items()}\n",
    "print tif_axes"
   ]
  },
  {
   "cell_type": "code",
   "execution_count": 6,
   "metadata": {},
   "outputs": [
    {
     "name": "stdout",
     "output_type": "stream",
     "text": [
      "Sm_Movies/Cy5/Cy5_Pos_7_02.ome.tif\n",
      "(Major, minor) = (7, 2)\n",
      "262144 (512, 512)\n",
      "Sm_Movies/Cy5/Cy5_Pos_5_01.ome.tif\n",
      "(Major, minor) = (5, 1)\n",
      "262144 (512, 512)\n",
      "(Major, minor) = (4, 2)\n",
      "262144 (512, 512)\n",
      "(Major, minor) = (6, 1)\n",
      "262144 (512, 512)\n",
      "Sm_Movies/Cy5/Cy5_Pos_6_02.ome.tif\n",
      "(Major, minor) = (6, 2)\n",
      "262144 (512, 512)\n",
      "Sm_Movies/Cy5/Cy5_Pos_2_01.ome.tif\n",
      "(Major, minor) = (2, 1)\n",
      "262144 (512, 512)\n",
      "(Major, minor) = (1, 2)\n",
      "262144 (512, 512)\n",
      "Sm_Movies/Cy5/Cy5_Pos_0_02.ome.tif\n",
      "(Major, minor) = (0, 2)\n",
      "262144 (512, 512)\n",
      "Sm_Movies/Cy5/Cy5_Pos_5_02.ome.tif\n",
      "(Major, minor) = (5, 2)\n",
      "262144 (512, 512)\n",
      "Sm_Movies/Cy5/Cy5_Pos_9_01.ome.tif\n",
      "(Major, minor) = (9, 1)\n",
      "262144 (512, 512)\n",
      "Sm_Movies/Cy5/Cy5_Pos_4_01.ome.tif\n",
      "(Major, minor) = (4, 1)\n",
      "262144 (512, 512)\n",
      "(Major, minor) = (8, 2)\n",
      "262144 (512, 512)\n",
      "(Major, minor) = (3, 2)\n",
      "262144 (512, 512)\n",
      "Sm_Movies/Cy5/Cy5_Pos_4_02.ome.tif\n",
      "(Major, minor) = (4, 2)\n",
      "262144 (512, 512)\n",
      "Sm_Movies/Cy5/Cy5_Pos_6_01.ome.tif\n",
      "(Major, minor) = (6, 1)\n",
      "262144 (512, 512)\n",
      "Sm_Movies/Cy5/Cy5_Pos_1_02.ome.tif\n",
      "(Major, minor) = (1, 2)\n",
      "262144 (512, 512)\n",
      "(Major, minor) = (0, 1)\n",
      "262144 (512, 512)\n",
      "(Major, minor) = (9, 2)\n",
      "262144 (512, 512)\n",
      "(Major, minor) = (3, 1)\n",
      "262144 (512, 512)\n",
      "(Major, minor) = (8, 1)\n",
      "262144 (512, 512)\n",
      "Sm_Movies/Cy5/Cy5_Pos_8_02.ome.tif\n",
      "(Major, minor) = (8, 2)\n",
      "262144 (512, 512)\n",
      "(Major, minor) = (7, 1)\n",
      "262144 (512, 512)\n",
      "Sm_Movies/Cy5/Cy5_Pos_3_02.ome.tif\n",
      "(Major, minor) = (3, 2)\n",
      "262144 (512, 512)\n",
      "Sm_Movies/Cy5/Cy5_Pos_0_01.ome.tif\n",
      "(Major, minor) = (0, 1)\n",
      "262144 (512, 512)\n",
      "(Major, minor) = (1, 1)\n",
      "262144 (512, 512)\n",
      "Sm_Movies/Cy5/Cy5_Pos_9_02.ome.tif\n",
      "(Major, minor) = (9, 2)\n",
      "262144 (512, 512)\n",
      "Sm_Movies/Cy5/Cy5_Pos_3_01.ome.tif\n",
      "(Major, minor) = (3, 1)\n",
      "262144 (512, 512)\n",
      "Sm_Movies/Cy5/Cy5_Pos_8_01.ome.tif\n",
      "(Major, minor) = (8, 1)\n",
      "262144 (512, 512)\n",
      "(Major, minor) = (2, 2)\n",
      "262144 (512, 512)\n",
      "(Major, minor) = (7, 2)\n",
      "262144 (512, 512)\n",
      "(Major, minor) = (5, 1)\n",
      "262144 (512, 512)\n",
      "Sm_Movies/Cy5/Cy5_Pos_7_01.ome.tif\n",
      "(Major, minor) = (7, 1)\n",
      "262144 (512, 512)\n",
      "(Major, minor) = (6, 2)\n",
      "262144 (512, 512)\n",
      "(Major, minor) = (2, 1)\n",
      "262144 (512, 512)\n",
      "Sm_Movies/Cy5/Cy5_Pos_1_01.ome.tif\n",
      "(Major, minor) = (1, 1)\n",
      "262144 (512, 512)\n",
      "(Major, minor) = (0, 2)\n",
      "262144 (512, 512)\n",
      "(Major, minor) = (5, 2)\n",
      "262144 (512, 512)\n",
      "(Major, minor) = (9, 1)\n",
      "262144 (512, 512)\n",
      "(Major, minor) = (4, 1)\n",
      "262144 (512, 512)\n",
      "Sm_Movies/Cy5/Cy5_Pos_2_02.ome.tif\n",
      "(Major, minor) = (2, 2)\n",
      "262144 (512, 512)\n"
     ]
    },
    {
     "ename": "SyntaxError",
     "evalue": "'return' outside function (<ipython-input-6-1f206e2f1082>, line 27)",
     "output_type": "error",
     "traceback": [
      "\u001b[0;36m  File \u001b[0;32m\"<ipython-input-6-1f206e2f1082>\"\u001b[0;36m, line \u001b[0;32m27\u001b[0m\n\u001b[0;31m    return h5_entries\u001b[0m\n\u001b[0;31mSyntaxError\u001b[0m\u001b[0;31m:\u001b[0m 'return' outside function\n"
     ]
    }
   ],
   "source": [
    "#def create_h5_dictionary(positions):\n",
    "h5_entries = defaultdict(lambda: defaultdict(int))\n",
    "for file_name, position in tif_axes.items():\n",
    "    if 'Cy3' in file_name:\n",
    "        major_position = str(position[0])\n",
    "        minor_position = str(position[1])\n",
    "        positions = '(Major, minor) = ({}, {})'.format(major_position, minor_position)\n",
    "        print positions\n",
    "        with tifffile.TiffFile(file_name) as tif:\n",
    "            img = tif.asarray()\n",
    "            sum_img = np.sum(img, dtype=np.int, axis=0)\n",
    "            print sum_img.size, sum_img.shape\n",
    "            h5_entries['Cy3'][positions] = sum_img\n",
    "    if 'Cy5' in file_name:\n",
    "        print file_name\n",
    "        major_position = str(position[0])\n",
    "        minor_position = str(position[1])\n",
    "        positions = '(Major, minor) = ({}, {})'.format(major_position, minor_position)\n",
    "        print positions\n",
    "        with tifffile.TiffFile(file_name) as tif:\n",
    "            image = tif.asarray()\n",
    "            #for adjustment in self._adjustments:\n",
    "            #    image = adjustment(image)\n",
    "            sum_image = np.sum(image, dtype=np.uint8, axis=0)\n",
    "            print sum_image.size, sum_image.shape\n",
    "            h5_entries['Cy5'][positions] = sum_image\n",
    "return h5_entries"
   ]
  },
  {
   "cell_type": "code",
   "execution_count": 7,
   "metadata": {},
   "outputs": [
    {
     "name": "stdout",
     "output_type": "stream",
     "text": [
      "Cy3\n",
      "(Major, minor) = (7, 1)\n",
      "(Major, minor) = (3, 2)\n",
      "(Major, minor) = (1, 2)\n",
      "(Major, minor) = (2, 2)\n",
      "(Major, minor) = (7, 2)\n",
      "(Major, minor) = (0, 2)\n",
      "(Major, minor) = (8, 1)\n",
      "(Major, minor) = (6, 2)\n",
      "(Major, minor) = (2, 1)\n",
      "(Major, minor) = (4, 2)\n",
      "(Major, minor) = (9, 2)\n",
      "(Major, minor) = (6, 1)\n",
      "(Major, minor) = (8, 2)\n",
      "(Major, minor) = (9, 1)\n",
      "(Major, minor) = (4, 1)\n",
      "(Major, minor) = (5, 1)\n",
      "(Major, minor) = (5, 2)\n",
      "(Major, minor) = (3, 1)\n",
      "(Major, minor) = (1, 1)\n",
      "(Major, minor) = (0, 1)\n",
      "Cy5\n",
      "(Major, minor) = (7, 1)\n",
      "(Major, minor) = (3, 2)\n",
      "(Major, minor) = (4, 1)\n",
      "(Major, minor) = (2, 2)\n",
      "(Major, minor) = (7, 2)\n",
      "(Major, minor) = (0, 2)\n",
      "(Major, minor) = (5, 2)\n",
      "(Major, minor) = (6, 2)\n",
      "(Major, minor) = (2, 1)\n",
      "(Major, minor) = (4, 2)\n",
      "(Major, minor) = (9, 2)\n",
      "(Major, minor) = (6, 1)\n",
      "(Major, minor) = (5, 1)\n",
      "(Major, minor) = (9, 1)\n",
      "(Major, minor) = (1, 2)\n",
      "(Major, minor) = (8, 2)\n",
      "(Major, minor) = (8, 1)\n",
      "(Major, minor) = (3, 1)\n",
      "(Major, minor) = (1, 1)\n",
      "(Major, minor) = (0, 1)\n"
     ]
    }
   ],
   "source": [
    "#def convert_image_dict_to_h5(name, datadict):\n",
    "#    \"\"\"Convert nested dictionary to h5 file\n",
    "#   \n",
    "#    Parameters\n",
    "#    ----------\n",
    "#    name: str\n",
    "#        Name of the movie; used to name h5 file\n",
    "#    \n",
    "#    datadict: dict\n",
    "#        Dictionary mapping channel names and positions to pixel intensity arrays\n",
    "#\n",
    "#    \"\"\"\n",
    "    \n",
    "h = h5py.File('{}.h5'.format(name), 'w')\n",
    "for ch_name in h5_entries.keys():\n",
    "    print ch_name\n",
    "    for pos in h5_entries[ch_name].keys():\n",
    "        print pos\n",
    "        h.create_dataset('{}/{}'.format(ch_name, pos), data=h5_entries[ch_name][pos])\n",
    "h.close()"
   ]
  },
  {
   "cell_type": "code",
   "execution_count": null,
   "metadata": {},
   "outputs": [],
   "source": []
  }
 ],
 "metadata": {
  "kernelspec": {
   "display_name": "Python 2",
   "language": "python",
   "name": "python2"
  },
  "language_info": {
   "codemirror_mode": {
    "name": "ipython",
    "version": 2
   },
   "file_extension": ".py",
   "mimetype": "text/x-python",
   "name": "python",
   "nbconvert_exporter": "python",
   "pygments_lexer": "ipython2",
   "version": "2.7.18"
  }
 },
 "nbformat": 4,
 "nbformat_minor": 2
}
